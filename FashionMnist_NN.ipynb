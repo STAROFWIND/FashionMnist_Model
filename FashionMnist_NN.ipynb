{
  "nbformat": 4,
  "nbformat_minor": 0,
  "metadata": {
    "colab": {
      "name": "FashionMnist_NN.ipynb",
      "provenance": [],
      "collapsed_sections": [],
      "toc_visible": true,
      "authorship_tag": "ABX9TyNVdPoq3DbFq49ZjmzFzlj/",
      "include_colab_link": true
    },
    "kernelspec": {
      "name": "python3",
      "display_name": "Python 3"
    },
    "accelerator": "GPU"
  },
  "cells": [
    {
      "cell_type": "markdown",
      "metadata": {
        "id": "view-in-github",
        "colab_type": "text"
      },
      "source": [
        "<a href=\"https://colab.research.google.com/github/STAROFWIND/FashionMnist_Model/blob/master/FashionMnist_NN.ipynb\" target=\"_parent\"><img src=\"https://colab.research.google.com/assets/colab-badge.svg\" alt=\"Open In Colab\"/></a>"
      ]
    },
    {
      "cell_type": "code",
      "metadata": {
        "id": "nkJqY21jnE-y",
        "colab_type": "code",
        "colab": {}
      },
      "source": [
        "import tensorflow as tf\n",
        "import matplotlib.pyplot as plt\n",
        "import numpy as np\n",
        "import cv2"
      ],
      "execution_count": 0,
      "outputs": []
    },
    {
      "cell_type": "code",
      "metadata": {
        "id": "21ZrN7oorCl5",
        "colab_type": "code",
        "colab": {}
      },
      "source": [
        "# load dataset\n",
        "(x_train, y_train), (x_test, y_test)= tf.keras.datasets.fashion_mnist.load_data()\n",
        "x_train, x_test = x_train / 255.0, x_test / 255.0"
      ],
      "execution_count": 0,
      "outputs": []
    },
    {
      "cell_type": "code",
      "metadata": {
        "id": "gAbGZQTsnxA-",
        "colab_type": "code",
        "colab": {}
      },
      "source": [
        "# create model\n",
        "model = tf.keras.models.Sequential([\n",
        "      tf.keras.layers.Flatten(input_shape = (28,28)),\n",
        "      tf.keras.layers.Dense(250,activation= 'relu'), \n",
        "      tf.keras.layers.Dropout(0.1),\n",
        "      tf.keras.layers.Dense(150,activation= 'relu'), \n",
        "      tf.keras.layers.Dense(10, activation='softmax')                       \n",
        "])\n",
        "model.compile(optimizer='adam',\n",
        "              loss='sparse_categorical_crossentropy',\n",
        "              metrics=['accuracy'])"
      ],
      "execution_count": 0,
      "outputs": []
    },
    {
      "cell_type": "code",
      "metadata": {
        "id": "VZpN_TqTokOI",
        "colab_type": "code",
        "colab": {}
      },
      "source": [
        "# train model\n",
        "model.fit(x_train, y_train, batch_size = 200, epochs = 10, validation_split= 0.2)"
      ],
      "execution_count": 0,
      "outputs": []
    },
    {
      "cell_type": "code",
      "metadata": {
        "id": "NsGDFvE088hD",
        "colab_type": "code",
        "colab": {}
      },
      "source": [
        "# evaluate test set\n",
        "model.evaluate(x_test,y_test,verbose=2)"
      ],
      "execution_count": 0,
      "outputs": []
    },
    {
      "cell_type": "code",
      "metadata": {
        "id": "h_t-HA32dl36",
        "colab_type": "code",
        "colab": {}
      },
      "source": [
        "#predict label \n",
        "def predict_output(image):\n",
        "  class_label = ['t-shirt','trouser','pullover','dress','coat','sandal','shirt','sneaker','bag','boot']\n",
        "  predict = model.predict(image.reshape(1,28,28))\n",
        "  a = np.argmax(predict[0])\n",
        "  label = class_label[a]\n",
        "  return label\n"
      ],
      "execution_count": 0,
      "outputs": []
    },
    {
      "cell_type": "code",
      "metadata": {
        "id": "8tcpZp9r88bz",
        "colab_type": "code",
        "colab": {}
      },
      "source": [
        "#plot function \n",
        "def plot_image(image):\n",
        "  img = image.reshape(28,28)\n",
        "  plt.imshow (img,cmap=plt.cm.gray_r, interpolation='nearest')\n",
        "def plot_prediction(image):\n",
        "  predict = model.predict(image.reshape(1,28,28))\n",
        "  plt.bar(range(10),predict[0])"
      ],
      "execution_count": 0,
      "outputs": []
    },
    {
      "cell_type": "code",
      "metadata": {
        "id": "yeGVUqe8bKNj",
        "colab_type": "code",
        "colab": {}
      },
      "source": [
        "# read new image\n",
        "import cv2\n",
        "image = cv2.imread('trouser.jpg')\n",
        "image = cv2.cvtColor(image, cv2.COLOR_BGR2GRAY)\n",
        "image = np.max(image)-image\n",
        "image = cv2.resize(image,(28,28))\n",
        "# show result\n",
        "plt.figure(figsize= (6,3))\n",
        "plt.subplot(1,2,1)\n",
        "plt.title(predict_output(image))\n",
        "plot_image(image)\n",
        "plt.subplot(1,2,2)\n",
        "plot_prediction(image)\n",
        "plt.show()\n"
      ],
      "execution_count": 0,
      "outputs": []
    }
  ]
}