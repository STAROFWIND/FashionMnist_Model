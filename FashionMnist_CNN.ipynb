{
  "nbformat": 4,
  "nbformat_minor": 0,
  "metadata": {
    "colab": {
      "name": "FashionMnist_CNN.ipynb",
      "provenance": [],
      "collapsed_sections": [],
      "toc_visible": true,
      "authorship_tag": "ABX9TyNE/cqoGiBZ34x4+af7zVsu",
      "include_colab_link": true
    },
    "kernelspec": {
      "name": "python3",
      "display_name": "Python 3"
    },
    "accelerator": "GPU"
  },
  "cells": [
    {
      "cell_type": "markdown",
      "metadata": {
        "id": "view-in-github",
        "colab_type": "text"
      },
      "source": [
        "<a href=\"https://colab.research.google.com/github/STAROFWIND/FashionMnist_Model/blob/master/FashionMnist_CNN.ipynb\" target=\"_parent\"><img src=\"https://colab.research.google.com/assets/colab-badge.svg\" alt=\"Open In Colab\"/></a>"
      ]
    },
    {
      "cell_type": "code",
      "metadata": {
        "id": "nkJqY21jnE-y",
        "colab_type": "code",
        "colab": {}
      },
      "source": [
        "import tensorflow as tf\n",
        "import matplotlib.pyplot as plt\n",
        "import numpy as np\n",
        "import cv2"
      ],
      "execution_count": 0,
      "outputs": []
    },
    {
      "cell_type": "code",
      "metadata": {
        "id": "21ZrN7oorCl5",
        "colab_type": "code",
        "colab": {}
      },
      "source": [
        "# load dataset\n",
        "(x_train, y_train), (x_test, y_test)= tf.keras.datasets.fashion_mnist.load_data()\n",
        "x_train, x_test = x_train / 255.0, x_test / 255.0\n",
        "x_train = x_train.reshape(x_train.shape[0], 28,28, 1)\n",
        "x_test = x_test.reshape(x_test.shape[0], 28,28, 1)\n"
      ],
      "execution_count": 0,
      "outputs": []
    },
    {
      "cell_type": "code",
      "metadata": {
        "id": "gAbGZQTsnxA-",
        "colab_type": "code",
        "colab": {}
      },
      "source": [
        "# create model\n",
        "model = tf.keras.models.Sequential([\n",
        "      tf.keras.layers.Conv2D(32,3,1,'same',activation='relu', input_shape = (28,28,1)),\n",
        "      tf.keras.layers.MaxPooling2D((2,2),1),\n",
        "      tf.keras.layers.Conv2D(64,3,1,'same',activation='relu'),\n",
        "      tf.keras.layers.MaxPooling2D((2,2),1),\n",
        "      tf.keras.layers.Flatten(),\n",
        "      tf.keras.layers.Dense(4000,activation= 'relu'),\n",
        "      tf.keras.layers.Dense(10, activation='softmax'),                      \n",
        "])\n",
        "model.compile(optimizer='adam',\n",
        "              loss='sparse_categorical_crossentropy',\n",
        "              metrics=['accuracy'])"
      ],
      "execution_count": 0,
      "outputs": []
    },
    {
      "cell_type": "code",
      "metadata": {
        "id": "VZpN_TqTokOI",
        "colab_type": "code",
        "colab": {}
      },
      "source": [
        "# train model\n",
        "history = model.fit(x_train, y_train, batch_size = 300, epochs = 100, validation_split= 0.2)"
      ],
      "execution_count": 0,
      "outputs": []
    },
    {
      "cell_type": "code",
      "metadata": {
        "id": "NsGDFvE088hD",
        "colab_type": "code",
        "colab": {}
      },
      "source": [
        "# evaluate test set\n",
        "model.evaluate(x_test,y_test,verbose=0)"
      ],
      "execution_count": 0,
      "outputs": []
    },
    {
      "cell_type": "code",
      "metadata": {
        "id": "h_t-HA32dl36",
        "colab_type": "code",
        "colab": {}
      },
      "source": [
        "#predict label \n",
        "def predict_output(image):\n",
        "  class_label = ['t-shirt','trouser','pullover','dress','coat','sandal','shirt','sneaker','bag','boot']\n",
        "  predict = model.predict(image.reshape(1,28,28,1))\n",
        "  a = np.argmax(predict[0])\n",
        "  label = class_label[a]\n",
        "  return label\n"
      ],
      "execution_count": 0,
      "outputs": []
    },
    {
      "cell_type": "code",
      "metadata": {
        "id": "8tcpZp9r88bz",
        "colab_type": "code",
        "colab": {}
      },
      "source": [
        "#plot function \n",
        "def plot_image(image):\n",
        "  img = image.reshape(28,28)\n",
        "  plt.imshow (img,cmap=plt.cm.gray_r, interpolation='nearest')\n",
        "def plot_prediction(image):\n",
        "  predict = model.predict(image.reshape(1,28,28,1))\n",
        "  plt.bar(range(10),predict[0])"
      ],
      "execution_count": 0,
      "outputs": []
    },
    {
      "cell_type": "code",
      "metadata": {
        "id": "yeGVUqe8bKNj",
        "colab_type": "code",
        "colab": {}
      },
      "source": [
        "# read new image\n",
        "import cv2\n",
        "image = cv2.imread('trouser.jpg')\n",
        "image = cv2.cvtColor(image, cv2.COLOR_BGR2GRAY)\n",
        "image = np.max(image)-image\n",
        "image = cv2.resize(image,(28,28))\n",
        "# show result\n",
        "plt.figure(figsize= (6,3))\n",
        "plt.subplot(1,2,1)\n",
        "plt.title(predict_output(image))\n",
        "plot_image(image)\n",
        "plt.subplot(1,2,2)\n",
        "plot_prediction(image)\n",
        "plt.show()\n"
      ],
      "execution_count": 0,
      "outputs": []
    },
    {
      "cell_type": "code",
      "metadata": {
        "id": "g9bFpd49LIPa",
        "colab_type": "code",
        "colab": {}
      },
      "source": [
        "# Plot training & validation accuracy values\n",
        "plt.plot(history.history['acc'])\n",
        "plt.plot(history.history['val_acc'])\n",
        "plt.title('Model accuracy')\n",
        "plt.ylabel('Accuracy')\n",
        "plt.xlabel('Epoch')\n",
        "plt.legend(['Train', 'Test'], loc='upper left')\n",
        "plt.show()\n",
        "\n",
        "# Plot training & validation loss values\n",
        "plt.plot(history.history['loss'])\n",
        "plt.plot(history.history['val_loss'])\n",
        "plt.title('Model loss')\n",
        "plt.ylabel('Loss')\n",
        "plt.xlabel('Epoch')\n",
        "plt.legend(['Train', 'Test'], loc='upper left')\n",
        "plt.show()"
      ],
      "execution_count": 0,
      "outputs": []
    },
    {
      "cell_type": "code",
      "metadata": {
        "id": "EfsvENSfLIG6",
        "colab_type": "code",
        "colab": {}
      },
      "source": [
        ""
      ],
      "execution_count": 0,
      "outputs": []
    }
  ]
}